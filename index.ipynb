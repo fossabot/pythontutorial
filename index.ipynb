{
 "cells": [
  {
   "cell_type": "markdown",
   "metadata": {},
   "source": [
    "# A Scientific Python Tutorial \n",
    "\n",
    "Ian Thomas, Research Capability, RMIT.\n",
    "\n",
    "***\n",
    "\n",
    "## Introduction\n",
    "\n",
    "In this tutorial, we will \n",
    "\n",
    "* introduce NeCTAR, the Australian national infrastructure for research cloud computing, \n",
    "\n",
    "* create a Jupyter notebook (a user interface for python programming), \n",
    "\n",
    "* review Scipy (a collection of python packages for mathematics, scientific and engineering programming, and \n",
    "\n",
    "* experiment with the Pandas and Matplotlib packages for a small case study.\n",
    "\n",
    "This tutorial is a quick introduction of these various technology tools, as a stepping-off point for further investigation.  I provide links to each of the tools and other background information that may be helpful.\n",
    "\n",
    "\n",
    "*** \n",
    "\n",
    "## Jupyter Notebooks\n",
    "\n",
    "Text from http://jupyter.org\n",
    "\n",
    "> The Jupyter Notebook is an open-source web application that allows you to create and share documents that contain live code, equations, visualizations and narrative text. Uses include: data cleaning and transformation, numerical simulation, statistical modeling, data visualization, machine learning, and much more.\n",
    "\n",
    "Here we install a Jupyter notebook, a web based shell for Python (and other languages) programming.\n",
    "\n",
    "### Installation Options\n",
    "\n",
    "See https://jupyter.org/install.html for more information.\n",
    "\n",
    "1) Download and install the Anaconda distribution : https://www.anaconda.com/what-is-anaconda/ a open source distribution with hundreds of packages useful for data science, machine learning and scientific programming.\n",
    "\n",
    "2) Deploy Jupyter on the NeCTAR research cloud, the National cloud computing platform for Australian Researchers (including HDRS).\n",
    "\n",
    "3) Use Mybinder.org (http://mybinder.org) to spin up _temporary_ Jupyter notebooks for  experimental purposes.\n",
    "\n",
    "#### NeCTAR cloud deployment\n",
    "\n",
    "Text from http://nectar.org.au\n",
    "\n",
    "> The National eResearch Collaboration Tools and Resources project (Nectar) provides an online infrastructure that supports researchers to connect with colleagues in Australia and around the world, allowing them to collaborate and share ideas and research outcomes, which will ultimately contribute to our collective knowledge and make a significant impact on our society.\n",
    "\n",
    "> *Nectar Cloud* provides computing infrastructure, software and services that allow Australia’s research community to store, access, and run data, remotely, rapidly and autonomously. Nectar Cloud’s self-service structure allows users to access their own data at any time and collaborate with others from their desktop in a fast and efficient way.\n",
    "\n",
    "All Australian Researchers (including HDRs) has access to the NeCTAR cloud and can apply for computing resources using a merit allocation scheme.  However all researchers are allocated a free trial of two small VMs. \n",
    "\n",
    "Try it!  Go to \n",
    "http://cloud.nectar.org.au/start-now/\n",
    "and login, using your university credentials to try it out.\n",
    "\n",
    "The cloud also provides common images of applications that can be automatically provisioned onto the cloud.  One of those is Jupyter:\n",
    "\n",
    "https://support.ehelp.edu.au/support/solutions/articles/6000196124-nectar-applications-jupyter-notebook\n",
    "\n",
    "#### My binder deployment\n",
    "\n",
    "Text from http://mybinder.org:\n",
    "\n",
    "> Have a repository full of Jupyter notebooks? With Binder, open those notebooks in an executable environment, making your code immediately reproducible by anyone, anywhere.\n",
    "\n",
    "This is by far the simplest option for just running this tutorial and trying out scientific python.\n",
    "\n",
    "The following link will spin up your own virtual machine with jupyter, scipy and python and this tutorial running:\n",
    "\n",
    "https://tinyurl.com/y795bmjq\n",
    "\n",
    "This virtual machine is temporary and only designed for short experiments.  For more permanent resources, try the other two deployments from earlier."
   ]
  },
  {
   "cell_type": "markdown",
   "metadata": {},
   "source": [
    "##  Basic Usage\n",
    "\n",
    "The Jupyter notebook is not just text, its python code.  To execute a cell, select it and press the play button above.  Multiple presses will execute each cell in turn."
   ]
  },
  {
   "cell_type": "code",
   "execution_count": null,
   "metadata": {},
   "outputs": [],
   "source": [
    "print(\"Hello World\")"
   ]
  },
  {
   "cell_type": "code",
   "execution_count": null,
   "metadata": {},
   "outputs": [],
   "source": []
  },
  {
   "cell_type": "code",
   "execution_count": null,
   "metadata": {},
   "outputs": [],
   "source": [
    "# Type any python here"
   ]
  },
  {
   "cell_type": "markdown",
   "metadata": {},
   "source": [
    "***\n",
    "\n",
    "## Scientific processing with SciPy\n",
    "\n",
    "### SciPy Toolkit\n",
    "\n",
    "Text from www.scipy.org\n",
    "\n",
    "> SciPy (pronounced “Sigh Pie”) is a Python-based ecosystem of open-source software for mathematics, science, and engineering.\n",
    "\n",
    "Includes\n",
    "\n",
    "* **Numpy** Base N-dimensional array package\n",
    "\n",
    "* **Scipy library** Fundamental library for scientific computing\n",
    "\n",
    "* **Matplotlib ** Comprehensive 2D plotting\n",
    "\n",
    "* **Pandas** Data structures and analysis\n",
    "\n",
    "* **scikit-image** Collection of algorithms for image processing.\n",
    "\n",
    "* **sckit-learn** collection of tools fro machien learning.\n",
    "\n",
    "* ...\n",
    "\n",
    "In this tutorial we investigate the _pandas_ and _matplotlib_ packages.\n",
    "\n",
    "\n",
    "### Pandas \n",
    "\n",
    "Text from http://pandas.pydata.org\n",
    "\n",
    "> Python has long been great for data munging and preparation, but less so for data analysis and modeling. pandas helps fill this gap, enabling you to carry out your entire data analysis workflow in Python without having to switch to a more domain specific language like R.\n",
    "\n",
    "> Combined with the excellent IPython toolkit and other libraries, the environment for doing data analysis in Python excels in performance, productivity, and the ability to collaborate.\n",
    "\n",
    "> ### Library Highlights\n",
    "\n",
    "> * A fast and efficient DataFrame object for data manipulation with integrated indexing;\n",
    "* Tools for reading and writing data between in-memory data structures and different formats: CSV and text files, Microsoft Excel, SQL databases, and the fast HDF5 format;\n",
    "* Intelligent data alignment and integrated handling of missing data: gain automatic label-based alignment in computations and easily manipulate messy data into an orderly form;\n",
    "* Flexible reshaping and pivoting of data sets;\n",
    "* Intelligent label-based slicing, fancy indexing, and subsetting of large data sets;\n",
    "* Columns can be inserted and deleted from data structures for size mutability;\n",
    "* Aggregating or transforming data with a powerful group by engine allowing split-apply-combine operations on data sets;\n",
    "* High performance merging and joining of data sets;\n",
    "* Hierarchical axis indexing provides an intuitive way of working with high-dimensional data in a lower-dimensional data structure;\n",
    "* Time series-functionality: date range generation and frequency conversion, moving window statistics, moving window linear regressions, date shifting and lagging. Even create domain-specific time offsets and join time series without losing data;\n",
    "* Highly optimized for performance, with critical code paths written in Cython or C.\n",
    "* Python with pandas is in use in a wide variety of academic and commercial domains, including Finance, Neuroscience, Economics, Statistics, Advertising, Web Analytics, and more.\n",
    "\n",
    "***"
   ]
  },
  {
   "cell_type": "markdown",
   "metadata": {},
   "source": [
    "## Wine Reviews: 130k wine reviews with variety, location, winery, price and description\n",
    "\n",
    "Scraped from Wine enthusiast Magazine week of June 15th 2017\n",
    "\n",
    "Collated by Zack Thoutt:   https://www.kaggle.com/zynicide/wine-reviews\n",
    "\n",
    "Analysis below based on https://www.kaggle.com/nikhilkumar15508/summary-functions-and-maps-reference\n",
    "and https://github.com/kjingers/reproducible-python\n"
   ]
  },
  {
   "cell_type": "markdown",
   "metadata": {},
   "source": [
    "First load the CSV file with the data"
   ]
  },
  {
   "cell_type": "code",
   "execution_count": null,
   "metadata": {},
   "outputs": [],
   "source": [
    "import pandas as pd\n",
    "wine = pd.read_csv(\"winemag-data-130k-v2.csv\")\n",
    "wine.head()"
   ]
  },
  {
   "cell_type": "markdown",
   "metadata": {},
   "source": [
    "Get basic description of the data"
   ]
  },
  {
   "cell_type": "code",
   "execution_count": null,
   "metadata": {},
   "outputs": [],
   "source": [
    "wine.describe(include ='all',).T"
   ]
  },
  {
   "cell_type": "code",
   "execution_count": null,
   "metadata": {},
   "outputs": [],
   "source": [
    "wine.points.describe()"
   ]
  },
  {
   "cell_type": "markdown",
   "metadata": {},
   "source": [
    "Lets look closer at the testers"
   ]
  },
  {
   "cell_type": "code",
   "execution_count": null,
   "metadata": {},
   "outputs": [],
   "source": [
    "wine.taster_name.unique()"
   ]
  },
  {
   "cell_type": "code",
   "execution_count": null,
   "metadata": {},
   "outputs": [],
   "source": [
    "wine.taster_name.describe()"
   ]
  },
  {
   "cell_type": "code",
   "execution_count": null,
   "metadata": {},
   "outputs": [],
   "source": [
    "wine.taster_name.value_counts()"
   ]
  },
  {
   "cell_type": "markdown",
   "metadata": {},
   "source": [
    " Grouping per country and points to analyse the mean price of the wines"
   ]
  },
  {
   "cell_type": "code",
   "execution_count": null,
   "metadata": {},
   "outputs": [],
   "source": [
    "cnt = wine.groupby(['country','points'])['price'].agg(['count','min','max','mean']).sort_values(by = 'mean',ascending = False)[:20]\n",
    "cnt.reset_index(inplace=True)\n",
    "#cnt.style.background_gradient(cmap='PuBu',high=0.5)\n",
    "cnt"
   ]
  },
  {
   "cell_type": "markdown",
   "metadata": {},
   "source": [
    "### Matplotlib\n",
    "\n",
    "Text from https://matplotlib.org/\n",
    "\n",
    "> Matplotlib is a Python 2D plotting library which produces publication quality figures in a variety of hardcopy formats and interactive environments across platforms. Matplotlib can be used in Python scripts, the Python and IPython shells, the Jupyter notebook, web application servers, and four graphical user interface toolkits.\n",
    "\n",
    "***\n"
   ]
  },
  {
   "cell_type": "code",
   "execution_count": null,
   "metadata": {},
   "outputs": [],
   "source": [
    "%matplotlib inline\n",
    "import matplotlib.pyplot as plt\n",
    "wine['points'].value_counts().sort_index().plot.bar(color = 'blue',\n",
    "                                                   title = 'Rankings given by winr magazine');\n"
   ]
  },
  {
   "cell_type": "markdown",
   "metadata": {},
   "source": [
    "How many countries are represented?"
   ]
  },
  {
   "cell_type": "code",
   "execution_count": null,
   "metadata": {},
   "outputs": [],
   "source": [
    "wine['country'].nunique()"
   ]
  },
  {
   "cell_type": "markdown",
   "metadata": {},
   "source": [
    "Countries with the most wine representations"
   ]
  },
  {
   "cell_type": "code",
   "execution_count": null,
   "metadata": {},
   "outputs": [],
   "source": [
    "fig, ax = plt.subplots(figsize = (10, 8))\n",
    "country = wine['country'].value_counts().to_frame()[0:20]\n",
    "country.plot.bar(ax = ax, color=\"blue\", legend = None, title = 'Countries with most wine representations');"
   ]
  },
  {
   "cell_type": "markdown",
   "metadata": {},
   "source": [
    " Which countries have the highest point mean?"
   ]
  },
  {
   "cell_type": "code",
   "execution_count": null,
   "metadata": {},
   "outputs": [],
   "source": [
    "country_grouped = wine.groupby('country')\n",
    "grouped_list = country_grouped['points'].mean().reset_index()\n",
    "grouped_list.sort_values(by ='points', ascending = False).iloc[:20].reset_index(drop = True)"
   ]
  },
  {
   "cell_type": "markdown",
   "metadata": {},
   "source": [
    "Lets look at Australia..."
   ]
  },
  {
   "cell_type": "code",
   "execution_count": null,
   "metadata": {},
   "outputs": [],
   "source": [
    "oz = wine[wine['country'] == 'Australia'].copy()\n",
    "oz.head()"
   ]
  },
  {
   "cell_type": "code",
   "execution_count": null,
   "metadata": {},
   "outputs": [],
   "source": [
    "fig, ax = plt.subplots(figsize = (10, 8))\n",
    "oz_points = oz['points'].value_counts().to_frame()\n",
    "oz_points.sort_values(by = 'points', ascending = False, inplace = True)\n",
    "oz_points.plot.bar(ax = ax, legend = None)\n",
    "ax.set_xlabel('Points')\n",
    "ax.set_ylabel('No of wines');"
   ]
  },
  {
   "cell_type": "markdown",
   "metadata": {},
   "source": [
    "## Further Resources\n",
    "\n",
    "* http://jupyter.org\n",
    "    \n",
    "* http://nectar.org.au\n",
    "    \n",
    "* http://mybinder.org\n",
    "    \n",
    "* http://www.scipy.org\n",
    "    \n",
    "* http://pandas.pydata.org\n",
    "    \n",
    "* https://matplotlib.org/"
   ]
  },
  {
   "cell_type": "code",
   "execution_count": null,
   "metadata": {},
   "outputs": [],
   "source": []
  }
 ],
 "metadata": {
  "kernelspec": {
   "display_name": "Python 3",
   "language": "python",
   "name": "python3"
  },
  "language_info": {
   "codemirror_mode": {
    "name": "ipython",
    "version": 3
   },
   "file_extension": ".py",
   "mimetype": "text/x-python",
   "name": "python",
   "nbconvert_exporter": "python",
   "pygments_lexer": "ipython3",
   "version": "3.6.3"
  }
 },
 "nbformat": 4,
 "nbformat_minor": 2
}
